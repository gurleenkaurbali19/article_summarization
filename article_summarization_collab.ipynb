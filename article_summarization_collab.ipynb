{
  "cells": [
    {
      "cell_type": "code",
      "source": [
        "!nvidia-smi"
      ],
      "metadata": {
        "colab": {
          "base_uri": "https://localhost:8080/"
        },
        "id": "dX20XDGkOOJX",
        "outputId": "8edb1474-7213-4c75-d8e6-dc308301251e"
      },
      "id": "dX20XDGkOOJX",
      "execution_count": 4,
      "outputs": [
        {
          "output_type": "stream",
          "name": "stdout",
          "text": [
            "Sun Dec 29 08:09:44 2024       \n",
            "+---------------------------------------------------------------------------------------+\n",
            "| NVIDIA-SMI 535.104.05             Driver Version: 535.104.05   CUDA Version: 12.2     |\n",
            "|-----------------------------------------+----------------------+----------------------+\n",
            "| GPU  Name                 Persistence-M | Bus-Id        Disp.A | Volatile Uncorr. ECC |\n",
            "| Fan  Temp   Perf          Pwr:Usage/Cap |         Memory-Usage | GPU-Util  Compute M. |\n",
            "|                                         |                      |               MIG M. |\n",
            "|=========================================+======================+======================|\n",
            "|   0  Tesla T4                       Off | 00000000:00:04.0 Off |                    0 |\n",
            "| N/A   48C    P8              12W /  70W |      0MiB / 15360MiB |      0%      Default |\n",
            "|                                         |                      |                  N/A |\n",
            "+-----------------------------------------+----------------------+----------------------+\n",
            "                                                                                         \n",
            "+---------------------------------------------------------------------------------------+\n",
            "| Processes:                                                                            |\n",
            "|  GPU   GI   CI        PID   Type   Process name                            GPU Memory |\n",
            "|        ID   ID                                                             Usage      |\n",
            "|=======================================================================================|\n",
            "|  No running processes found                                                           |\n",
            "+---------------------------------------------------------------------------------------+\n"
          ]
        }
      ]
    },
    {
      "cell_type": "code",
      "execution_count": 5,
      "id": "7bc6472c-cccc-4c4d-9bb2-8bdd8e06d664",
      "metadata": {
        "id": "7bc6472c-cccc-4c4d-9bb2-8bdd8e06d664"
      },
      "outputs": [],
      "source": [
        "import pandas as pd"
      ]
    },
    {
      "cell_type": "code",
      "execution_count": 6,
      "id": "67a8c4a0-59b3-47e8-8e1c-30dfa271e2b1",
      "metadata": {
        "id": "67a8c4a0-59b3-47e8-8e1c-30dfa271e2b1"
      },
      "outputs": [],
      "source": [
        "data = pd.read_csv('/content/news_summary.csv', encoding='latin1')\n"
      ]
    },
    {
      "cell_type": "code",
      "execution_count": 7,
      "id": "ecb43e71-61e6-49a7-8a49-454ccb1c8533",
      "metadata": {
        "colab": {
          "base_uri": "https://localhost:8080/"
        },
        "id": "ecb43e71-61e6-49a7-8a49-454ccb1c8533",
        "outputId": "d59c233e-88a4-4bb3-8c96-b179e291617f"
      },
      "outputs": [
        {
          "output_type": "execute_result",
          "data": {
            "text/plain": [
              "(4514, 6)"
            ]
          },
          "metadata": {},
          "execution_count": 7
        }
      ],
      "source": [
        "data.shape"
      ]
    },
    {
      "cell_type": "code",
      "execution_count": 8,
      "id": "f9d330a7-4179-4ea5-af54-6cc0df4316df",
      "metadata": {
        "colab": {
          "base_uri": "https://localhost:8080/",
          "height": 397
        },
        "id": "f9d330a7-4179-4ea5-af54-6cc0df4316df",
        "outputId": "6eabacd4-889d-49bc-e194-2ab3e6da70fc"
      },
      "outputs": [
        {
          "output_type": "execute_result",
          "data": {
            "text/plain": [
              "               author                  date  \\\n",
              "0        Chhavi Tyagi  03 Aug 2017,Thursday   \n",
              "1         Daisy Mowke  03 Aug 2017,Thursday   \n",
              "2      Arshiya Chopra  03 Aug 2017,Thursday   \n",
              "3       Sumedha Sehra  03 Aug 2017,Thursday   \n",
              "4  Aarushi Maheshwari  03 Aug 2017,Thursday   \n",
              "\n",
              "                                           headlines  \\\n",
              "0  Daman & Diu revokes mandatory Rakshabandhan in...   \n",
              "1  Malaika slams user who trolled her for 'divorc...   \n",
              "2  'Virgin' now corrected to 'Unmarried' in IGIMS...   \n",
              "3  Aaj aapne pakad liya: LeT man Dujana before be...   \n",
              "4  Hotel staff to get training to spot signs of s...   \n",
              "\n",
              "                                           read_more  \\\n",
              "0  http://www.hindustantimes.com/india-news/raksh...   \n",
              "1  http://www.hindustantimes.com/bollywood/malaik...   \n",
              "2  http://www.hindustantimes.com/patna/bihar-igim...   \n",
              "3  http://indiatoday.intoday.in/story/abu-dujana-...   \n",
              "4  http://indiatoday.intoday.in/story/sex-traffic...   \n",
              "\n",
              "                                                text  \\\n",
              "0  The Administration of Union Territory Daman an...   \n",
              "1  Malaika Arora slammed an Instagram user who tr...   \n",
              "2  The Indira Gandhi Institute of Medical Science...   \n",
              "3  Lashkar-e-Taiba's Kashmir commander Abu Dujana...   \n",
              "4  Hotels in Maharashtra will train their staff t...   \n",
              "\n",
              "                                               ctext  \n",
              "0  The Daman and Diu administration on Wednesday ...  \n",
              "1  From her special numbers to TV?appearances, Bo...  \n",
              "2  The Indira Gandhi Institute of Medical Science...  \n",
              "3  Lashkar-e-Taiba's Kashmir commander Abu Dujana...  \n",
              "4  Hotels in Mumbai and other Indian cities are t...  "
            ],
            "text/html": [
              "\n",
              "  <div id=\"df-caa995bc-f0fb-4f17-b851-8a54ae9edc84\" class=\"colab-df-container\">\n",
              "    <div>\n",
              "<style scoped>\n",
              "    .dataframe tbody tr th:only-of-type {\n",
              "        vertical-align: middle;\n",
              "    }\n",
              "\n",
              "    .dataframe tbody tr th {\n",
              "        vertical-align: top;\n",
              "    }\n",
              "\n",
              "    .dataframe thead th {\n",
              "        text-align: right;\n",
              "    }\n",
              "</style>\n",
              "<table border=\"1\" class=\"dataframe\">\n",
              "  <thead>\n",
              "    <tr style=\"text-align: right;\">\n",
              "      <th></th>\n",
              "      <th>author</th>\n",
              "      <th>date</th>\n",
              "      <th>headlines</th>\n",
              "      <th>read_more</th>\n",
              "      <th>text</th>\n",
              "      <th>ctext</th>\n",
              "    </tr>\n",
              "  </thead>\n",
              "  <tbody>\n",
              "    <tr>\n",
              "      <th>0</th>\n",
              "      <td>Chhavi Tyagi</td>\n",
              "      <td>03 Aug 2017,Thursday</td>\n",
              "      <td>Daman &amp; Diu revokes mandatory Rakshabandhan in...</td>\n",
              "      <td>http://www.hindustantimes.com/india-news/raksh...</td>\n",
              "      <td>The Administration of Union Territory Daman an...</td>\n",
              "      <td>The Daman and Diu administration on Wednesday ...</td>\n",
              "    </tr>\n",
              "    <tr>\n",
              "      <th>1</th>\n",
              "      <td>Daisy Mowke</td>\n",
              "      <td>03 Aug 2017,Thursday</td>\n",
              "      <td>Malaika slams user who trolled her for 'divorc...</td>\n",
              "      <td>http://www.hindustantimes.com/bollywood/malaik...</td>\n",
              "      <td>Malaika Arora slammed an Instagram user who tr...</td>\n",
              "      <td>From her special numbers to TV?appearances, Bo...</td>\n",
              "    </tr>\n",
              "    <tr>\n",
              "      <th>2</th>\n",
              "      <td>Arshiya Chopra</td>\n",
              "      <td>03 Aug 2017,Thursday</td>\n",
              "      <td>'Virgin' now corrected to 'Unmarried' in IGIMS...</td>\n",
              "      <td>http://www.hindustantimes.com/patna/bihar-igim...</td>\n",
              "      <td>The Indira Gandhi Institute of Medical Science...</td>\n",
              "      <td>The Indira Gandhi Institute of Medical Science...</td>\n",
              "    </tr>\n",
              "    <tr>\n",
              "      <th>3</th>\n",
              "      <td>Sumedha Sehra</td>\n",
              "      <td>03 Aug 2017,Thursday</td>\n",
              "      <td>Aaj aapne pakad liya: LeT man Dujana before be...</td>\n",
              "      <td>http://indiatoday.intoday.in/story/abu-dujana-...</td>\n",
              "      <td>Lashkar-e-Taiba's Kashmir commander Abu Dujana...</td>\n",
              "      <td>Lashkar-e-Taiba's Kashmir commander Abu Dujana...</td>\n",
              "    </tr>\n",
              "    <tr>\n",
              "      <th>4</th>\n",
              "      <td>Aarushi Maheshwari</td>\n",
              "      <td>03 Aug 2017,Thursday</td>\n",
              "      <td>Hotel staff to get training to spot signs of s...</td>\n",
              "      <td>http://indiatoday.intoday.in/story/sex-traffic...</td>\n",
              "      <td>Hotels in Maharashtra will train their staff t...</td>\n",
              "      <td>Hotels in Mumbai and other Indian cities are t...</td>\n",
              "    </tr>\n",
              "  </tbody>\n",
              "</table>\n",
              "</div>\n",
              "    <div class=\"colab-df-buttons\">\n",
              "\n",
              "  <div class=\"colab-df-container\">\n",
              "    <button class=\"colab-df-convert\" onclick=\"convertToInteractive('df-caa995bc-f0fb-4f17-b851-8a54ae9edc84')\"\n",
              "            title=\"Convert this dataframe to an interactive table.\"\n",
              "            style=\"display:none;\">\n",
              "\n",
              "  <svg xmlns=\"http://www.w3.org/2000/svg\" height=\"24px\" viewBox=\"0 -960 960 960\">\n",
              "    <path d=\"M120-120v-720h720v720H120Zm60-500h600v-160H180v160Zm220 220h160v-160H400v160Zm0 220h160v-160H400v160ZM180-400h160v-160H180v160Zm440 0h160v-160H620v160ZM180-180h160v-160H180v160Zm440 0h160v-160H620v160Z\"/>\n",
              "  </svg>\n",
              "    </button>\n",
              "\n",
              "  <style>\n",
              "    .colab-df-container {\n",
              "      display:flex;\n",
              "      gap: 12px;\n",
              "    }\n",
              "\n",
              "    .colab-df-convert {\n",
              "      background-color: #E8F0FE;\n",
              "      border: none;\n",
              "      border-radius: 50%;\n",
              "      cursor: pointer;\n",
              "      display: none;\n",
              "      fill: #1967D2;\n",
              "      height: 32px;\n",
              "      padding: 0 0 0 0;\n",
              "      width: 32px;\n",
              "    }\n",
              "\n",
              "    .colab-df-convert:hover {\n",
              "      background-color: #E2EBFA;\n",
              "      box-shadow: 0px 1px 2px rgba(60, 64, 67, 0.3), 0px 1px 3px 1px rgba(60, 64, 67, 0.15);\n",
              "      fill: #174EA6;\n",
              "    }\n",
              "\n",
              "    .colab-df-buttons div {\n",
              "      margin-bottom: 4px;\n",
              "    }\n",
              "\n",
              "    [theme=dark] .colab-df-convert {\n",
              "      background-color: #3B4455;\n",
              "      fill: #D2E3FC;\n",
              "    }\n",
              "\n",
              "    [theme=dark] .colab-df-convert:hover {\n",
              "      background-color: #434B5C;\n",
              "      box-shadow: 0px 1px 3px 1px rgba(0, 0, 0, 0.15);\n",
              "      filter: drop-shadow(0px 1px 2px rgba(0, 0, 0, 0.3));\n",
              "      fill: #FFFFFF;\n",
              "    }\n",
              "  </style>\n",
              "\n",
              "    <script>\n",
              "      const buttonEl =\n",
              "        document.querySelector('#df-caa995bc-f0fb-4f17-b851-8a54ae9edc84 button.colab-df-convert');\n",
              "      buttonEl.style.display =\n",
              "        google.colab.kernel.accessAllowed ? 'block' : 'none';\n",
              "\n",
              "      async function convertToInteractive(key) {\n",
              "        const element = document.querySelector('#df-caa995bc-f0fb-4f17-b851-8a54ae9edc84');\n",
              "        const dataTable =\n",
              "          await google.colab.kernel.invokeFunction('convertToInteractive',\n",
              "                                                    [key], {});\n",
              "        if (!dataTable) return;\n",
              "\n",
              "        const docLinkHtml = 'Like what you see? Visit the ' +\n",
              "          '<a target=\"_blank\" href=https://colab.research.google.com/notebooks/data_table.ipynb>data table notebook</a>'\n",
              "          + ' to learn more about interactive tables.';\n",
              "        element.innerHTML = '';\n",
              "        dataTable['output_type'] = 'display_data';\n",
              "        await google.colab.output.renderOutput(dataTable, element);\n",
              "        const docLink = document.createElement('div');\n",
              "        docLink.innerHTML = docLinkHtml;\n",
              "        element.appendChild(docLink);\n",
              "      }\n",
              "    </script>\n",
              "  </div>\n",
              "\n",
              "\n",
              "<div id=\"df-5682621a-948c-45dd-a405-44fbba82952b\">\n",
              "  <button class=\"colab-df-quickchart\" onclick=\"quickchart('df-5682621a-948c-45dd-a405-44fbba82952b')\"\n",
              "            title=\"Suggest charts\"\n",
              "            style=\"display:none;\">\n",
              "\n",
              "<svg xmlns=\"http://www.w3.org/2000/svg\" height=\"24px\"viewBox=\"0 0 24 24\"\n",
              "     width=\"24px\">\n",
              "    <g>\n",
              "        <path d=\"M19 3H5c-1.1 0-2 .9-2 2v14c0 1.1.9 2 2 2h14c1.1 0 2-.9 2-2V5c0-1.1-.9-2-2-2zM9 17H7v-7h2v7zm4 0h-2V7h2v10zm4 0h-2v-4h2v4z\"/>\n",
              "    </g>\n",
              "</svg>\n",
              "  </button>\n",
              "\n",
              "<style>\n",
              "  .colab-df-quickchart {\n",
              "      --bg-color: #E8F0FE;\n",
              "      --fill-color: #1967D2;\n",
              "      --hover-bg-color: #E2EBFA;\n",
              "      --hover-fill-color: #174EA6;\n",
              "      --disabled-fill-color: #AAA;\n",
              "      --disabled-bg-color: #DDD;\n",
              "  }\n",
              "\n",
              "  [theme=dark] .colab-df-quickchart {\n",
              "      --bg-color: #3B4455;\n",
              "      --fill-color: #D2E3FC;\n",
              "      --hover-bg-color: #434B5C;\n",
              "      --hover-fill-color: #FFFFFF;\n",
              "      --disabled-bg-color: #3B4455;\n",
              "      --disabled-fill-color: #666;\n",
              "  }\n",
              "\n",
              "  .colab-df-quickchart {\n",
              "    background-color: var(--bg-color);\n",
              "    border: none;\n",
              "    border-radius: 50%;\n",
              "    cursor: pointer;\n",
              "    display: none;\n",
              "    fill: var(--fill-color);\n",
              "    height: 32px;\n",
              "    padding: 0;\n",
              "    width: 32px;\n",
              "  }\n",
              "\n",
              "  .colab-df-quickchart:hover {\n",
              "    background-color: var(--hover-bg-color);\n",
              "    box-shadow: 0 1px 2px rgba(60, 64, 67, 0.3), 0 1px 3px 1px rgba(60, 64, 67, 0.15);\n",
              "    fill: var(--button-hover-fill-color);\n",
              "  }\n",
              "\n",
              "  .colab-df-quickchart-complete:disabled,\n",
              "  .colab-df-quickchart-complete:disabled:hover {\n",
              "    background-color: var(--disabled-bg-color);\n",
              "    fill: var(--disabled-fill-color);\n",
              "    box-shadow: none;\n",
              "  }\n",
              "\n",
              "  .colab-df-spinner {\n",
              "    border: 2px solid var(--fill-color);\n",
              "    border-color: transparent;\n",
              "    border-bottom-color: var(--fill-color);\n",
              "    animation:\n",
              "      spin 1s steps(1) infinite;\n",
              "  }\n",
              "\n",
              "  @keyframes spin {\n",
              "    0% {\n",
              "      border-color: transparent;\n",
              "      border-bottom-color: var(--fill-color);\n",
              "      border-left-color: var(--fill-color);\n",
              "    }\n",
              "    20% {\n",
              "      border-color: transparent;\n",
              "      border-left-color: var(--fill-color);\n",
              "      border-top-color: var(--fill-color);\n",
              "    }\n",
              "    30% {\n",
              "      border-color: transparent;\n",
              "      border-left-color: var(--fill-color);\n",
              "      border-top-color: var(--fill-color);\n",
              "      border-right-color: var(--fill-color);\n",
              "    }\n",
              "    40% {\n",
              "      border-color: transparent;\n",
              "      border-right-color: var(--fill-color);\n",
              "      border-top-color: var(--fill-color);\n",
              "    }\n",
              "    60% {\n",
              "      border-color: transparent;\n",
              "      border-right-color: var(--fill-color);\n",
              "    }\n",
              "    80% {\n",
              "      border-color: transparent;\n",
              "      border-right-color: var(--fill-color);\n",
              "      border-bottom-color: var(--fill-color);\n",
              "    }\n",
              "    90% {\n",
              "      border-color: transparent;\n",
              "      border-bottom-color: var(--fill-color);\n",
              "    }\n",
              "  }\n",
              "</style>\n",
              "\n",
              "  <script>\n",
              "    async function quickchart(key) {\n",
              "      const quickchartButtonEl =\n",
              "        document.querySelector('#' + key + ' button');\n",
              "      quickchartButtonEl.disabled = true;  // To prevent multiple clicks.\n",
              "      quickchartButtonEl.classList.add('colab-df-spinner');\n",
              "      try {\n",
              "        const charts = await google.colab.kernel.invokeFunction(\n",
              "            'suggestCharts', [key], {});\n",
              "      } catch (error) {\n",
              "        console.error('Error during call to suggestCharts:', error);\n",
              "      }\n",
              "      quickchartButtonEl.classList.remove('colab-df-spinner');\n",
              "      quickchartButtonEl.classList.add('colab-df-quickchart-complete');\n",
              "    }\n",
              "    (() => {\n",
              "      let quickchartButtonEl =\n",
              "        document.querySelector('#df-5682621a-948c-45dd-a405-44fbba82952b button');\n",
              "      quickchartButtonEl.style.display =\n",
              "        google.colab.kernel.accessAllowed ? 'block' : 'none';\n",
              "    })();\n",
              "  </script>\n",
              "</div>\n",
              "\n",
              "    </div>\n",
              "  </div>\n"
            ],
            "application/vnd.google.colaboratory.intrinsic+json": {
              "type": "dataframe",
              "variable_name": "data",
              "summary": "{\n  \"name\": \"data\",\n  \"rows\": 4514,\n  \"fields\": [\n    {\n      \"column\": \"author\",\n      \"properties\": {\n        \"dtype\": \"category\",\n        \"num_unique_values\": 45,\n        \"samples\": [\n          \"Animesh Choudhary\",\n          \"Swarnim Bagre\",\n          \"Rini Sinha\"\n        ],\n        \"semantic_type\": \"\",\n        \"description\": \"\"\n      }\n    },\n    {\n      \"column\": \"date\",\n      \"properties\": {\n        \"dtype\": \"object\",\n        \"num_unique_values\": 240,\n        \"samples\": [\n          \"16 Feb 2017,Thursday\",\n          \"28 Jul 2017,Friday\",\n          \"09 Dec 2016,Friday\"\n        ],\n        \"semantic_type\": \"\",\n        \"description\": \"\"\n      }\n    },\n    {\n      \"column\": \"headlines\",\n      \"properties\": {\n        \"dtype\": \"string\",\n        \"num_unique_values\": 4514,\n        \"samples\": [\n          \"South Delhi restaurants to allow public to use toilets at ?5\",\n          \"China bans Bieber from performing over bad behaviour\",\n          \"Pakistan accuses India of targeting CPEC\"\n        ],\n        \"semantic_type\": \"\",\n        \"description\": \"\"\n      }\n    },\n    {\n      \"column\": \"read_more\",\n      \"properties\": {\n        \"dtype\": \"string\",\n        \"num_unique_values\": 4461,\n        \"samples\": [\n          \"http://www.hindustantimes.com/india-news/rjd-leader-close-to-shahabuddin-shot-dead-in-bihar-s-siwan/story-nNJ50rMCX9KqxdBsfUv5VM.html?utm_source=inshorts&utm_medium=referral&utm_campaign=fullarticle \",\n          \"https://www.theguardian.com/business/2017/jul/17/primark-recalls-mens-flip-flops-after-carcinogenic-chemical-discovery?utm_source=inshorts&utm_medium=referral&utm_campaign=fullarticle \",\n          \"http://indiatoday.intoday.in/story/yogi-adityanath-inspired-menu-vegetarian-lucknow-hotel-ssj-international-charbagh-lifefd/1/925947.html \"\n        ],\n        \"semantic_type\": \"\",\n        \"description\": \"\"\n      }\n    },\n    {\n      \"column\": \"text\",\n      \"properties\": {\n        \"dtype\": \"string\",\n        \"num_unique_values\": 4514,\n        \"samples\": [\n          \"All restaurants, including five-star hotels, in South Delhi have been directed by a Delhi civic body to make their toilets available to general public, who are not customers, at a fee of ?5 starting April 1. \\\"The move will be particularly beneficial for women who face problems due to lack of toilets in marketplaces,\\\" the South Delhi Municipal Corporation said.\",\n          \"The Chinese government has banned singer Justin Bieber from performing in the country as he has \\\"engaged in a series of bad behaviours, both in his social life and during a previous performance in China\\\". Bieber will perform in Asia later this year, with concerts scheduled in countries like Indonesia, Japan and Singapore, as part of his Purpose World Tour.\",\n          \"Pakistan on Saturday accused India of targeting the China-Pakistan Economic Corridor (CPEC) project through subversive activities. Pakistan further said that it is aware of \\\"enemy designs\\\" and is taking effective counter measures. Notably, India which has repeatedly dismissed all such allegations has raised sovereignty concerns over the project as it passes through Pakistan-occupied Kashmir.\"\n        ],\n        \"semantic_type\": \"\",\n        \"description\": \"\"\n      }\n    },\n    {\n      \"column\": \"ctext\",\n      \"properties\": {\n        \"dtype\": \"string\",\n        \"num_unique_values\": 4341,\n        \"samples\": [\n          \"If you are a Samsung Galaxy Note fan, you were waiting to hear these words -- Note 7 will be sold in India. Despite all the bad whether it went through before being laid to the grave, Note 7 might come back from the dead; it has to if the company is to minimize losses and environmental penalties incurred in disposal of close to 3 million devices.Update: Samsung has denied that it has any plans to sell refurbished Galaxy Note 7 units in India. \\\"The report on Samsung planning to sell refurbished Galaxy Note 7 smartphone in India is incorrect,\\\" said a Samsung India spokesperson, without offering any other details.\\u00a0 Korean website Hankyung  reports the Galaxy Note 7 is due for a resurrection in select places -- Vietnam, India and probably South Korea. Samsung Electronics will finalise the designs by May this year and will go on sale in June (expected). Several changes will be made to the phone.Also Read:  Galaxy Note 7 exploded due to battery, confirms Samsung Samsung initially announced a recall of some 2.5 million Note 7 phones in September and identified the cause of the fire as a manufacturing process problem at one of its suppliers, but new Note 7s with what Samsung said were safe batteries from a different supplier continued to catch fire.But it was only after a complete recall and \\\"in-depth\\\" analysis of the cause did it make out that it was not the battery material, but the way the battery was shaped to fit in the chassis that caused the short circuit.Now, Samsung will be redesigning both the battery and the chassis. The battery is said to be of a lower capacity -- about 3000mAh, and if Samsung is redesigning the chassis, it might not support a dual curved screen. But it will be called refurbished and the price expected should be considerably cheaper.\",\n          \"The public works department (PWD) has cleared the proposal for the construction of a flyover over the erstwhile NH-58 near Raj Nagar Extension (RNE). After NH-58 was denotified as a highway last year, it was assigned as ?other district road? to the PWD as per a state government notification in June.Due to massive inflow of traffic on the Ghaziabad-Meerut Road (erstwhile NH-58), officials of the Ghaziabad Development Authority (GDA) had proposed the construction of a flyover and also altered the design, by making it a split-type flyover, as the regional rapid transit system (RRTS) corridor passes through the median of the road.?We have given clearance for the project to the GDA. They will have to prepare a service lane in the area and also have to take care of the piped gas line that passes through the area. They will make use of additional land in the vicinity and also remove encroachments. We also reviewed their traffic plan and have given them the permission after a thorough study,? said Manish Verma, executive engineer, PWD.?We also checked the RRTS alignment and had also asked them to take permission from the agency concerned. The clearance was given on a review of the traffic regulation plan and provision for the RRTS alignment. We are also planning to make the road a state highway and will send a proposal to the government. This is because the volume of traffic has remained the same despite the road being denotified as a highway,? he said.The proposed flyover, spanning 538 metres, is pegged at Rs50 crore and its design was changed from combined six-lane to three-lane (each side) split-type one. The middle portion between the two lanes will be used for the RRTS, which will come up on an elevated section, like the metro train system.The authority had proposed the flyover to decongest the city roads as a heavy volume of traffic is witnessed at the intersection.?The design for the flyover has been approved by the RRTS agency. The flyover design report is waiting to be vetted by IIT, Roorkee. The UP state bridge corporation is the construction agency. Once the design is vetted, the flyover construction can be started. We have received clearances from PWD for the project,? said Chakresh Jain, executive engineer, GDA.The authority has also proposed a flyover in Vasundhara, over the Link Road. Officials said that the proposed design is not in conflict with the RRTS alignment and pegged the cost at Rs50 crore.\",\n          \"New Delhi, Jun 30 (PTI) As India transits to a new era with rollout of GST, the government is leaving no stone unturned for a smooth switchover and has asked tax offices to convert into GST Seva-Kendras to provide all assistance to tax payers. While the rollout day of July 1 will be known as GST Day, all the offices of the Central Board of Excise and Customs (CBEC) have been instructed to be open on Saturday as a trade facilitation measure. This was to enable the availability of officers and staff for the benefit of trade and industry, an order issued by CBEC Special Secretary and Member S Ramesh said. \\\"Henceforth, all field offices from the Chief Commissioners office to the Range should serve as GST Seva- Kendras for effective trade facilitation,\\\" it said. Apart from giving guidance to GST assessees, GST Seva Kendras should render assistance to taxpayers in migration, registration as well as filing of returns. A guidance manual for such GST Seva Kendras too has been circulated to all offices in a bid to standardise quality taxpayer services. The order instructed such manuals to be prepared for each zone operating at different levels. \\\"This work may be done in a time-bound manner so as to be completed in next 2-3 days,\\\" Ramesh wrote. CBEC also asked for strengthening of the GST Seva-Kendras to enable them discharge their functions effectively and promptly. In the run-up to the GST rollout, CBEC had organised outreach programmes and training sessions for the new regime. \"\n        ],\n        \"semantic_type\": \"\",\n        \"description\": \"\"\n      }\n    }\n  ]\n}"
            }
          },
          "metadata": {},
          "execution_count": 8
        }
      ],
      "source": [
        "data.head()"
      ]
    },
    {
      "cell_type": "markdown",
      "id": "7f281ce9-f5db-4009-a551-4623550c1c51",
      "metadata": {
        "id": "7f281ce9-f5db-4009-a551-4623550c1c51"
      },
      "source": [
        "#### columns in the dataset\n",
        "author: Name of the author.\n",
        "\n",
        "date: Date of publication.\n",
        "\n",
        "headlines: Headline of the news article.\n",
        "\n",
        "read_more: URL link for further reading.\n",
        "\n",
        "text: Summarized version of the article.\n",
        "\n",
        "ctext: Complete article text."
      ]
    },
    {
      "cell_type": "code",
      "execution_count": 9,
      "id": "57c36df0-d27c-4077-bcb2-061ab913b54d",
      "metadata": {
        "colab": {
          "base_uri": "https://localhost:8080/",
          "height": 272
        },
        "id": "57c36df0-d27c-4077-bcb2-061ab913b54d",
        "outputId": "6c2f1ba5-6bf2-4e40-af52-2a161bb7d7a8"
      },
      "outputs": [
        {
          "output_type": "execute_result",
          "data": {
            "text/plain": [
              "author         0\n",
              "date           0\n",
              "headlines      0\n",
              "read_more      0\n",
              "text           0\n",
              "ctext        118\n",
              "dtype: int64"
            ],
            "text/html": [
              "<div>\n",
              "<style scoped>\n",
              "    .dataframe tbody tr th:only-of-type {\n",
              "        vertical-align: middle;\n",
              "    }\n",
              "\n",
              "    .dataframe tbody tr th {\n",
              "        vertical-align: top;\n",
              "    }\n",
              "\n",
              "    .dataframe thead th {\n",
              "        text-align: right;\n",
              "    }\n",
              "</style>\n",
              "<table border=\"1\" class=\"dataframe\">\n",
              "  <thead>\n",
              "    <tr style=\"text-align: right;\">\n",
              "      <th></th>\n",
              "      <th>0</th>\n",
              "    </tr>\n",
              "  </thead>\n",
              "  <tbody>\n",
              "    <tr>\n",
              "      <th>author</th>\n",
              "      <td>0</td>\n",
              "    </tr>\n",
              "    <tr>\n",
              "      <th>date</th>\n",
              "      <td>0</td>\n",
              "    </tr>\n",
              "    <tr>\n",
              "      <th>headlines</th>\n",
              "      <td>0</td>\n",
              "    </tr>\n",
              "    <tr>\n",
              "      <th>read_more</th>\n",
              "      <td>0</td>\n",
              "    </tr>\n",
              "    <tr>\n",
              "      <th>text</th>\n",
              "      <td>0</td>\n",
              "    </tr>\n",
              "    <tr>\n",
              "      <th>ctext</th>\n",
              "      <td>118</td>\n",
              "    </tr>\n",
              "  </tbody>\n",
              "</table>\n",
              "</div><br><label><b>dtype:</b> int64</label>"
            ]
          },
          "metadata": {},
          "execution_count": 9
        }
      ],
      "source": [
        "data.isnull().sum()\n"
      ]
    },
    {
      "cell_type": "code",
      "execution_count": 10,
      "id": "073d8514-115d-4ca2-9e36-96f8c6dcdcf2",
      "metadata": {
        "id": "073d8514-115d-4ca2-9e36-96f8c6dcdcf2"
      },
      "outputs": [],
      "source": [
        "data['ctext'] = data['ctext'].fillna(\"No content available\")\n"
      ]
    },
    {
      "cell_type": "code",
      "execution_count": 11,
      "id": "04701a09-6b1f-48b7-bef9-876f3d045c4e",
      "metadata": {
        "colab": {
          "base_uri": "https://localhost:8080/",
          "height": 272
        },
        "id": "04701a09-6b1f-48b7-bef9-876f3d045c4e",
        "outputId": "4ef3a7ca-9fc9-4517-e611-50a87feefa7b"
      },
      "outputs": [
        {
          "output_type": "execute_result",
          "data": {
            "text/plain": [
              "author       0\n",
              "date         0\n",
              "headlines    0\n",
              "read_more    0\n",
              "text         0\n",
              "ctext        0\n",
              "dtype: int64"
            ],
            "text/html": [
              "<div>\n",
              "<style scoped>\n",
              "    .dataframe tbody tr th:only-of-type {\n",
              "        vertical-align: middle;\n",
              "    }\n",
              "\n",
              "    .dataframe tbody tr th {\n",
              "        vertical-align: top;\n",
              "    }\n",
              "\n",
              "    .dataframe thead th {\n",
              "        text-align: right;\n",
              "    }\n",
              "</style>\n",
              "<table border=\"1\" class=\"dataframe\">\n",
              "  <thead>\n",
              "    <tr style=\"text-align: right;\">\n",
              "      <th></th>\n",
              "      <th>0</th>\n",
              "    </tr>\n",
              "  </thead>\n",
              "  <tbody>\n",
              "    <tr>\n",
              "      <th>author</th>\n",
              "      <td>0</td>\n",
              "    </tr>\n",
              "    <tr>\n",
              "      <th>date</th>\n",
              "      <td>0</td>\n",
              "    </tr>\n",
              "    <tr>\n",
              "      <th>headlines</th>\n",
              "      <td>0</td>\n",
              "    </tr>\n",
              "    <tr>\n",
              "      <th>read_more</th>\n",
              "      <td>0</td>\n",
              "    </tr>\n",
              "    <tr>\n",
              "      <th>text</th>\n",
              "      <td>0</td>\n",
              "    </tr>\n",
              "    <tr>\n",
              "      <th>ctext</th>\n",
              "      <td>0</td>\n",
              "    </tr>\n",
              "  </tbody>\n",
              "</table>\n",
              "</div><br><label><b>dtype:</b> int64</label>"
            ]
          },
          "metadata": {},
          "execution_count": 11
        }
      ],
      "source": [
        "data.isnull().sum()"
      ]
    },
    {
      "cell_type": "code",
      "execution_count": 12,
      "id": "d5500790-7d6e-4f5e-bfcd-81c79d34ab4f",
      "metadata": {
        "id": "d5500790-7d6e-4f5e-bfcd-81c79d34ab4f"
      },
      "outputs": [],
      "source": [
        "import re\n",
        "import nltk\n",
        "from nltk.tokenize import word_tokenize\n"
      ]
    },
    {
      "cell_type": "markdown",
      "id": "fc76cf05-865d-42e8-be1b-42b0f7ebdccb",
      "metadata": {
        "id": "fc76cf05-865d-42e8-be1b-42b0f7ebdccb"
      },
      "source": [
        "# Preprocessing"
      ]
    },
    {
      "cell_type": "markdown",
      "id": "9399dc80-45cb-4377-aeb6-eaa2880c569b",
      "metadata": {
        "id": "9399dc80-45cb-4377-aeb6-eaa2880c569b"
      },
      "source": [
        "### Cleaning"
      ]
    },
    {
      "cell_type": "code",
      "execution_count": 13,
      "id": "567b8df3-5f68-44c8-94c2-37eb927734c3",
      "metadata": {
        "colab": {
          "base_uri": "https://localhost:8080/"
        },
        "id": "567b8df3-5f68-44c8-94c2-37eb927734c3",
        "outputId": "2380ae4b-95b7-4936-efd7-8c0a2fd1649b"
      },
      "outputs": [
        {
          "output_type": "stream",
          "name": "stdout",
          "text": [
            "                                               ctext  \\\n",
            "0  the daman and diu administration on wednesday ...   \n",
            "1  from her special numbers to tvappearances boll...   \n",
            "2  the indira gandhi institute of medical science...   \n",
            "3  lashkaretaibas kashmir commander abu dujana wa...   \n",
            "4  hotels in mumbai and other indian cities are t...   \n",
            "\n",
            "                                                text  \n",
            "0  the administration of union territory daman an...  \n",
            "1  malaika arora slammed an instagram user who tr...  \n",
            "2  the indira gandhi institute of medical science...  \n",
            "3  lashkaretaibas kashmir commander abu dujana wh...  \n",
            "4  hotels in maharashtra will train their staff t...  \n"
          ]
        }
      ],
      "source": [
        "# Function to clean text\n",
        "def clean_text(text):\n",
        "    # Remove non-alphabetic characters (e.g., punctuation, digits)\n",
        "    text = re.sub(r'[^a-zA-Z\\s]', '', text)\n",
        "    # Convert to lowercase\n",
        "    text = text.lower()\n",
        "    # Remove extra spaces\n",
        "    text = re.sub(r'\\s+', ' ', text)\n",
        "    return text.strip()\n",
        "\n",
        "# Apply text cleaning on 'ctext' (complete article) and 'text' (summary)\n",
        "data['ctext'] = data['ctext'].apply(clean_text)\n",
        "data['text'] = data['text'].apply(clean_text)\n",
        "\n",
        "# Verify cleaning\n",
        "print(data[['ctext', 'text']].head())"
      ]
    },
    {
      "cell_type": "code",
      "execution_count": 14,
      "id": "ffd7bc32-59ac-4db4-9d89-84574e30c7c3",
      "metadata": {
        "colab": {
          "base_uri": "https://localhost:8080/"
        },
        "id": "ffd7bc32-59ac-4db4-9d89-84574e30c7c3",
        "outputId": "6f7816ed-2701-47ba-c1e3-d775773e0afe"
      },
      "outputs": [
        {
          "output_type": "stream",
          "name": "stdout",
          "text": [
            "1943.3322995126273\n"
          ]
        }
      ],
      "source": [
        "ctext_length=[]\n",
        "for i in range(0,4514):\n",
        "    l=len(data[\"ctext\"][i])\n",
        "    ctext_length.append(l)\n",
        "avg_length=sum(ctext_length)/len(ctext_length)\n",
        "print(avg_length)"
      ]
    },
    {
      "cell_type": "code",
      "execution_count": 15,
      "id": "ad1a91b0-0781-4dd7-a7b2-d595822aff2b",
      "metadata": {
        "colab": {
          "base_uri": "https://localhost:8080/"
        },
        "id": "ad1a91b0-0781-4dd7-a7b2-d595822aff2b",
        "outputId": "0322b8b2-681b-4306-e8f3-02664f3e7b44"
      },
      "outputs": [
        {
          "output_type": "execute_result",
          "data": {
            "text/plain": [
              "71124"
            ]
          },
          "metadata": {},
          "execution_count": 15
        }
      ],
      "source": [
        "max(ctext_length)"
      ]
    },
    {
      "cell_type": "markdown",
      "id": "e7803c13-2b1b-420d-afcb-631eef40fca4",
      "metadata": {
        "id": "e7803c13-2b1b-420d-afcb-631eef40fca4"
      },
      "source": [
        "### Tokenization"
      ]
    },
    {
      "cell_type": "code",
      "execution_count": 16,
      "id": "91639680-6b86-4a8e-996e-1a4a33f1fee8",
      "metadata": {
        "id": "91639680-6b86-4a8e-996e-1a4a33f1fee8"
      },
      "outputs": [],
      "source": [
        "import spacy\n",
        "\n",
        "# Loading spaCy's English model\n",
        "nlp = spacy.load('en_core_web_sm')\n",
        "\n",
        "# Function to tokenize using spaCy\n",
        "def spacy_tokenizer(text):\n",
        "    doc = nlp(text)\n",
        "    return [token.text for token in doc]\n",
        "\n",
        "# Apply tokenization to the data\n",
        "data['ctext_tokens'] = data['ctext'].apply(spacy_tokenizer)\n",
        "data['text_tokens'] = data['text'].apply(spacy_tokenizer)\n"
      ]
    },
    {
      "cell_type": "code",
      "execution_count": 17,
      "id": "353b56e6-35a3-4300-92ee-a6c77b26dfde",
      "metadata": {
        "colab": {
          "base_uri": "https://localhost:8080/"
        },
        "id": "353b56e6-35a3-4300-92ee-a6c77b26dfde",
        "outputId": "d3bc417a-ff3a-4ef7-e8f6-44ddbc4e8cdc"
      },
      "outputs": [
        {
          "output_type": "stream",
          "name": "stdout",
          "text": [
            "0    the daman and diu administration on wednesday ...\n",
            "1    from her special numbers to tvappearances boll...\n",
            "2    the indira gandhi institute of medical science...\n",
            "3    lashkaretaibas kashmir commander abu dujana wa...\n",
            "4    hotels in mumbai and other indian cities are t...\n",
            "Name: ctext, dtype: object\n"
          ]
        }
      ],
      "source": [
        "print(data['ctext'].head())\n"
      ]
    },
    {
      "cell_type": "markdown",
      "id": "c0c3847c-90d7-4270-b786-3536bb5e67a2",
      "metadata": {
        "id": "c0c3847c-90d7-4270-b786-3536bb5e67a2"
      },
      "source": [
        "### Lowercasing"
      ]
    },
    {
      "cell_type": "code",
      "execution_count": 27,
      "id": "49acf9ce-3b01-49e0-a96e-d3a8c599a4c2",
      "metadata": {
        "id": "49acf9ce-3b01-49e0-a96e-d3a8c599a4c2"
      },
      "outputs": [],
      "source": [
        "#Converting all text to lowercase to make the text consistent and reduce the size of the vocabulary.\n",
        "data['ctext'] = data['ctext'].str.lower()\n",
        "data['text'] = data['text'].str.lower()\n"
      ]
    },
    {
      "cell_type": "markdown",
      "id": "b7b9d494-f2b8-4f7a-9cab-beb5149ee21a",
      "metadata": {
        "id": "b7b9d494-f2b8-4f7a-9cab-beb5149ee21a"
      },
      "source": [
        "### Handling Contractions"
      ]
    },
    {
      "cell_type": "code",
      "execution_count": 19,
      "id": "3c2816a8-375d-4965-b921-571a4119fdf4",
      "metadata": {
        "id": "3c2816a8-375d-4965-b921-571a4119fdf4"
      },
      "outputs": [],
      "source": [
        "#Contractions are shortened forms of words or phrases created by omitting certain\n",
        "#letters and replacing them with an apostrophe (') like cannot --> can't\n",
        "#Expanding contractions can be important for text preprocessing, especially for NLP tasks,\n",
        "#as it ensures consistency in the text and helps models understand the full form of words.\n",
        "import contractions\n",
        "#This imports the contractions library, which provides a fix() function to expand contractions in a string."
      ]
    },
    {
      "cell_type": "markdown",
      "id": "244b6fc5-a12d-4142-9e20-7be13d9e7271",
      "metadata": {
        "id": "244b6fc5-a12d-4142-9e20-7be13d9e7271"
      },
      "source": [
        "#####\n",
        "The apply() method is used to apply a function to every element in the data['ctext'] column.\n",
        "\n",
        "\n",
        "The lambda function (lambda x: contractions.fix(x)) passes each string x from the column to the contractions.fix() function."
      ]
    },
    {
      "cell_type": "code",
      "execution_count": 20,
      "id": "cddcff8f-8ccf-4ab8-a8bd-baeec94b0506",
      "metadata": {
        "id": "cddcff8f-8ccf-4ab8-a8bd-baeec94b0506"
      },
      "outputs": [],
      "source": [
        "data['ctext'] = data['ctext'].apply(lambda x: contractions.fix(x))\n",
        "data['text'] = data['text'].apply(lambda x: contractions.fix(x))"
      ]
    },
    {
      "cell_type": "markdown",
      "id": "f1150c4d-9e6d-4cd5-b106-7f5f35717b62",
      "metadata": {
        "id": "f1150c4d-9e6d-4cd5-b106-7f5f35717b62"
      },
      "source": [
        "### Lemmatization"
      ]
    },
    {
      "cell_type": "markdown",
      "id": "0bdc6507-6b7a-4bc2-90cd-ef68e6836c64",
      "metadata": {
        "id": "0bdc6507-6b7a-4bc2-90cd-ef68e6836c64"
      },
      "source": [
        "##### Lemmatization is the process of reducing words to their base or root form (known as a lemma) while ensuring that the resulting word is valid in the language.\n",
        "why?\n",
        "\n",
        "+ Reduces Inflectional Variants: Words like running, runs, and ran are reduced to run, improving consistency in the dataset.\n",
        "\n",
        "+ Improves Model Performance: Helps in reducing dimensionality and improves the efficiency of machine learning or NLP models.\n",
        "\n",
        "+ Preserves Meaning: Unlike stemming, lemmatization ensures the root word is meaningful in the language."
      ]
    },
    {
      "cell_type": "code",
      "execution_count": 21,
      "id": "f34bebc3-d2c3-4114-973b-65d58474923b",
      "metadata": {
        "id": "f34bebc3-d2c3-4114-973b-65d58474923b"
      },
      "outputs": [],
      "source": [
        "from nltk.stem import WordNetLemmatizer\n",
        "#The WordNetLemmatizer is part of the Natural Language Toolkit (nltk) library and is specifically\n",
        "#designed to perform lemmatization by leveraging the WordNet lexical database."
      ]
    },
    {
      "cell_type": "code",
      "execution_count": 22,
      "id": "5c7b2b46-f60e-4021-a545-b3a23f140efb",
      "metadata": {
        "id": "5c7b2b46-f60e-4021-a545-b3a23f140efb"
      },
      "outputs": [],
      "source": [
        "lemmatizer = WordNetLemmatizer()\n",
        "#Creates an instance of the WordNetLemmatizer class, which provides the lemmatize() method."
      ]
    },
    {
      "cell_type": "code",
      "execution_count": 23,
      "id": "d31959ca-4572-497f-bd56-aeea2e4df020",
      "metadata": {
        "id": "d31959ca-4572-497f-bd56-aeea2e4df020"
      },
      "outputs": [],
      "source": [
        "def lemmatize_text(text):\n",
        "    return \" \".join([lemmatizer.lemmatize(word) for word in text.split()])"
      ]
    },
    {
      "cell_type": "code",
      "execution_count": 24,
      "id": "1eb38c68-d88a-4baa-b636-230f534930d9",
      "metadata": {
        "id": "1eb38c68-d88a-4baa-b636-230f534930d9"
      },
      "outputs": [],
      "source": [
        "data['ctext'] = data['ctext'].apply(lemmatize_text)\n",
        "data['text'] = data['text'].apply(lemmatize_text)"
      ]
    },
    {
      "cell_type": "markdown",
      "id": "eb007f32-9cff-4a80-8be6-fa45fa1561ff",
      "metadata": {
        "id": "eb007f32-9cff-4a80-8be6-fa45fa1561ff"
      },
      "source": [
        "### Truncation"
      ]
    },
    {
      "cell_type": "markdown",
      "id": "f7cdcafb-7f83-4229-a31c-b1ed8b3b1249",
      "metadata": {
        "id": "f7cdcafb-7f83-4229-a31c-b1ed8b3b1249"
      },
      "source": [
        "#####\n",
        "+ Truncation ensures that overly long sequences are cut down to a manageable size, reducing memory usage and improving training efficiency.\n",
        "+ Padding ensures that shorter sequences are extended to a fixed length, so they align with longer sequences during batch processing.\n",
        "\n",
        "For text summarization:\n",
        "\n",
        "+ Articles (input) might need a longer maximum sequence length (e.g., 512 tokens).\n",
        "+ Summaries (output) typically require shorter lengths (e.g., 128 tokens).\n",
        "+ Processing overly long texts can be computationally expensive.\n",
        "+ Limiting the length reduces memory and computation costs.\n"
      ]
    },
    {
      "cell_type": "markdown",
      "id": "773160f8-86be-4d35-8430-c1201c3ebe59",
      "metadata": {
        "id": "773160f8-86be-4d35-8430-c1201c3ebe59"
      },
      "source": [
        "#####\n",
        "In text summarization tasks, input sequences (articles) and output sequences (summaries) often have varying lengths. Neural networks require inputs of uniform size, so truncation and padding are necessary preprocessing steps.\n"
      ]
    },
    {
      "cell_type": "code",
      "execution_count": 25,
      "id": "7db647c4-8a4e-44b4-a9d3-13aaf5574b93",
      "metadata": {
        "id": "7db647c4-8a4e-44b4-a9d3-13aaf5574b93"
      },
      "outputs": [],
      "source": [
        "#Defining the maximum lengths\n",
        "max_article_len = 512\n",
        "max_summary_len = 128"
      ]
    },
    {
      "cell_type": "code",
      "execution_count": 26,
      "id": "f6cab53c-3ac8-449c-bbc5-ed463e3caf04",
      "metadata": {
        "id": "f6cab53c-3ac8-449c-bbc5-ed463e3caf04"
      },
      "outputs": [],
      "source": [
        "data['ctext'] = data['ctext'].apply(lambda x: \" \".join(x.split()[:max_article_len]))\n",
        "data['text'] = data['text'].apply(lambda x: \" \".join(x.split()[:max_summary_len]))\n",
        "#splitting the lines then only taking the specified number of words"
      ]
    },
    {
      "cell_type": "markdown",
      "id": "3485f90a-3001-4c44-9ef4-39002c1de8b8",
      "metadata": {
        "id": "3485f90a-3001-4c44-9ef4-39002c1de8b8"
      },
      "source": [
        "### Removing rare words"
      ]
    },
    {
      "cell_type": "markdown",
      "id": "84949a82-5926-4930-a761-03ee689cc593",
      "metadata": {
        "id": "84949a82-5926-4930-a761-03ee689cc593"
      },
      "source": [
        "#####\n",
        "+ Rare words (those that appear only once) can often be unimportant for many NLP tasks, especially in text classification or topic modeling.\n",
        "+ Removing these words helps reduce the noise in the data and can improve model performance.\n",
        "+ By reducing the dimensionality (i.e., removing rare words), the size of the vocabulary decreases, which can speed up training and reduce overfitting.\n",
        "+ In some cases, rare words may be outliers or irrelevant for the analysis, so removing them can help focus on the more important and consistent terms."
      ]
    },
    {
      "cell_type": "code",
      "execution_count": 28,
      "id": "9a9a5f11-69f5-4f22-8847-fef4a7cac394",
      "metadata": {
        "id": "9a9a5f11-69f5-4f22-8847-fef4a7cac394"
      },
      "outputs": [],
      "source": [
        "from collections import Counter\n",
        "\n",
        "# Get word frequencies\n",
        "all_words = \" \".join(data['ctext']).split()\n",
        "word_freq = Counter(all_words)  #returns a dictionary of all words with their frequencies\n",
        "\n",
        "# Remove rare words\n",
        "rare_words = set(word for word, freq in word_freq.items() if freq == 1)\n",
        "data['ctext'] = data['ctext'].apply(lambda x: \" \".join(word for word in x.split() if word not in rare_words))"
      ]
    },
    {
      "cell_type": "markdown",
      "id": "9937d043-1a72-4983-9f43-49b4cb1244a7",
      "metadata": {
        "id": "9937d043-1a72-4983-9f43-49b4cb1244a7"
      },
      "source": [
        "### Text Vectorization"
      ]
    },
    {
      "cell_type": "markdown",
      "id": "596ab799-fa94-447d-9bbe-e843f3644108",
      "metadata": {
        "id": "596ab799-fa94-447d-9bbe-e843f3644108"
      },
      "source": [
        "#####\n",
        "+ Converting the cleaned text into numerical format that the model can understand.\n",
        "+ Essential because neural networks require inputs as numerical data. Text needs to be converted into sequences of integers where each integer represents a specific word or token in your vocabulary.\n",
        "+ Padding is the process of adding extra tokens (usually zero) to the end (or sometimes the beginning) of a sequence to make all sequences in the dataset have the same length. These padding tokens don’t carry any meaningful information but are used solely to standardize the length of all sequences in the dataset."
      ]
    },
    {
      "cell_type": "code",
      "execution_count": 29,
      "id": "ae322a81-69ef-4a09-a119-b1de2adf3ecb",
      "metadata": {
        "id": "ae322a81-69ef-4a09-a119-b1de2adf3ecb"
      },
      "outputs": [],
      "source": [
        "from tensorflow.keras.preprocessing.text import Tokenizer\n",
        "from tensorflow.keras.preprocessing.sequence import pad_sequences\n"
      ]
    },
    {
      "cell_type": "code",
      "execution_count": 30,
      "id": "ed6489b1-da72-401e-8a14-60f1f7930668",
      "metadata": {
        "id": "ed6489b1-da72-401e-8a14-60f1f7930668"
      },
      "outputs": [],
      "source": [
        "#Initialize the tokenizer\n",
        "tokenizer = Tokenizer()\n",
        "\n",
        "# Fit the tokenizer on both articles (ctext) and summaries (text)\n",
        "tokenizer.fit_on_texts(data['ctext'].tolist() + data['text'].tolist())\n",
        "\n",
        "# Convert the texts to sequences of integers\n",
        "data['ctext_seq'] = tokenizer.texts_to_sequences(data['ctext'])\n",
        "data['text_seq'] = tokenizer.texts_to_sequences(data['text'])"
      ]
    },
    {
      "cell_type": "code",
      "execution_count": 31,
      "id": "788f89ac-877a-4117-84fe-145522656961",
      "metadata": {
        "id": "788f89ac-877a-4117-84fe-145522656961"
      },
      "outputs": [],
      "source": [
        "# Define the maximum lengths\n",
        "max_article_len = 512\n",
        "max_summary_len = 128\n",
        "\n",
        "# Apply padding to make all sequences the same length\n",
        "padded_ctext_seq = pad_sequences(data['ctext_seq'], maxlen=max_article_len, padding='post', truncating='post')\n",
        "padded_text_seq = pad_sequences(data['text_seq'], maxlen=max_summary_len, padding='post', truncating='post')\n",
        "\n",
        "# padded sequences for training\n",
        "data['padded_ctext_seq'] = list(padded_ctext_seq)\n",
        "data['padded_text_seq'] = list(padded_text_seq)"
      ]
    },
    {
      "cell_type": "markdown",
      "id": "588ffef5-97a2-4336-bad7-228a57714100",
      "metadata": {
        "id": "588ffef5-97a2-4336-bad7-228a57714100"
      },
      "source": [
        "#####\n",
        "+ Tokenizer: This is a class from Keras' tensorflow.keras.preprocessing.text module. It's used to convert text into a sequence of integers. Each integer corresponds to a word in the dataset's vocabulary. The Tokenizer object will create a mapping between words and integers based on their frequency in the training data.\n",
        "+ fit_on_texts: This method is used to learn the word indices (integer mappings) from a list of texts.\n",
        "+  It processes all the words in both the ctext (articles) and text (summaries) columns, counting the frequency of each word. Words that appear more frequently will have a lower index, while rare words will have a higher index. The fit_on_texts method creates a word-to-integer mapping, called the word index.\n",
        "+  texts_to_sequences: This method converts each text (article or summary) into a sequence of integers based on the word-to-integer mapping learned earlier in the fit_on_texts() method.\n",
        "+  For each word in an article or summary, it replaces the word with its corresponding integer value from the vocabulary built by fit_on_texts().\n",
        "+  pad_sequences: This function ensures that all sequences (of articles and summaries) have the same length. It handles both truncation (shortening long sequences) and padding (extending short sequences).\n",
        "+  maxlen=max_article_len: Ensures the sequences are at most 512 words long (articles).\n",
        "maxlen=max_summary_len: Ensures the sequences are at most 128 words long (summaries).\n",
        "+ padding='post': This means that if the sequence is shorter than the desired length, zeros will be added at the end of the sequence. If padding='pre', zeros would be added at the beginning instead.\n",
        "truncating='post': If the sequence is longer than the desired length, it will be truncated (cut off) from the end. If truncating='pre', truncation would happen from the beginning.\n",
        "+ Padding and truncation ensure that all sequences have a uniform length. Deep learning models typically expect fixed-size inputs, and padding ensures that all sequences match the specified length.\n",
        "+ After applying padding and truncation, the padded sequences are stored in the DataFrame as data['padded_ctext_seq']\n",
        "(for articles) and data['padded_text_seq'] (for summaries).\n",
        "\n"
      ]
    },
    {
      "cell_type": "markdown",
      "id": "fa99fd2b-cb28-4488-9584-d1029c74ab01",
      "metadata": {
        "id": "fa99fd2b-cb28-4488-9584-d1029c74ab01"
      },
      "source": [
        "##### Summary of the Workflow\n",
        "+ Text Tokenization: Convert the raw text (articles and summaries) into sequences of integers, where each integer represents a word.\n",
        "+ Padding and Truncation: Ensure that all sequences (both input articles and output summaries) have the same length by either truncating longer sequences or padding shorter ones.\n",
        "+ Preprocessing: Once the sequences are tokenized and padded, they are stored in the DataFrame for use in your model."
      ]
    },
    {
      "cell_type": "markdown",
      "id": "2f406330-36e2-4af4-b4dd-4ad75cb0a523",
      "metadata": {
        "id": "2f406330-36e2-4af4-b4dd-4ad75cb0a523"
      },
      "source": [
        "# SEQ2SEQ MODEL USING LSTM\n"
      ]
    },
    {
      "cell_type": "code",
      "execution_count": 32,
      "id": "a3c5942a-8608-4cbd-9fef-6838a38427eb",
      "metadata": {
        "id": "a3c5942a-8608-4cbd-9fef-6838a38427eb"
      },
      "outputs": [],
      "source": [
        "import numpy as np\n",
        "import pandas as pd\n",
        "from tensorflow.keras.preprocessing.text import Tokenizer\n",
        "from tensorflow.keras.preprocessing.sequence import pad_sequences\n",
        "from tensorflow.keras.models import Model\n",
        "from tensorflow.keras.layers import Input, LSTM, Dense, Embedding\n",
        "from tensorflow.keras.optimizers import Adam\n",
        "from tensorflow.keras.losses import SparseCategoricalCrossentropy\n"
      ]
    },
    {
      "cell_type": "code",
      "execution_count": 33,
      "id": "44f8c8a1-282a-4ec8-b54d-1681c0ff104a",
      "metadata": {
        "id": "44f8c8a1-282a-4ec8-b54d-1681c0ff104a"
      },
      "outputs": [],
      "source": [
        "X = np.array(padded_ctext_seq)  # Article (input)\n",
        "y = np.array(padded_text_seq)   # Summary (output)"
      ]
    },
    {
      "cell_type": "code",
      "execution_count": 34,
      "id": "ff8982dc-3505-4e72-9f01-2863ce1c3acf",
      "metadata": {
        "id": "ff8982dc-3505-4e72-9f01-2863ce1c3acf"
      },
      "outputs": [],
      "source": [
        "# Vocabulary size\n",
        "vocab_size = len(tokenizer.word_index) + 1"
      ]
    },
    {
      "cell_type": "code",
      "execution_count": 35,
      "id": "d7bdcb25-8cd6-448b-8201-3b1175390c8f",
      "metadata": {
        "id": "d7bdcb25-8cd6-448b-8201-3b1175390c8f"
      },
      "outputs": [],
      "source": [
        "# Input layer for articles (Encoder)\n",
        "encoder_inputs = Input(shape=(max_article_len,))\n",
        "encoder_embedding = Embedding(vocab_size, 256, mask_zero=True)(encoder_inputs)\n",
        "encoder_lstm = LSTM(1024, return_state=True)\n",
        "encoder_outputs, state_h, state_c = encoder_lstm(encoder_embedding)\n",
        "\n",
        "# The context vector (hidden states of LSTM) will be passed to the decoder\n",
        "encoder_states = [state_h, state_c]\n",
        "\n",
        "# Decoder setup\n",
        "decoder_inputs = Input(shape=(max_summary_len,))\n",
        "decoder_embedding = Embedding(vocab_size, 256, mask_zero=True)(decoder_inputs)\n",
        "decoder_lstm = LSTM(1024, return_sequences=True, return_state=True)\n",
        "decoder_outputs, _, _ = decoder_lstm(decoder_embedding, initial_state=encoder_states)\n",
        "\n",
        "# Dense layer with softmax activation to predict the next word\n",
        "decoder_dense = Dense(vocab_size, activation='softmax')\n",
        "decoder_outputs = decoder_dense(decoder_outputs)\n",
        "\n",
        "# Defining the model\n",
        "model = Model([encoder_inputs, decoder_inputs], decoder_outputs)\n"
      ]
    },
    {
      "cell_type": "code",
      "execution_count": 37,
      "id": "feeb5ab4-2397-47dc-a236-afdab6ad8bf6",
      "metadata": {
        "colab": {
          "base_uri": "https://localhost:8080/"
        },
        "id": "feeb5ab4-2397-47dc-a236-afdab6ad8bf6",
        "outputId": "10eb183a-c070-40ba-a4db-db45878c54c2"
      },
      "outputs": [
        {
          "output_type": "stream",
          "name": "stdout",
          "text": [
            "Epoch 1/25\n",
            "\u001b[1m57/57\u001b[0m \u001b[32m━━━━━━━━━━━━━━━━━━━━\u001b[0m\u001b[37m\u001b[0m \u001b[1m68s\u001b[0m 1s/step - accuracy: 0.0253 - loss: 8.3680 - val_accuracy: 0.0259 - val_loss: 7.3080\n",
            "Epoch 2/25\n",
            "\u001b[1m57/57\u001b[0m \u001b[32m━━━━━━━━━━━━━━━━━━━━\u001b[0m\u001b[37m\u001b[0m \u001b[1m85s\u001b[0m 1s/step - accuracy: 0.0265 - loss: 7.1390 - val_accuracy: 0.0839 - val_loss: 7.1356\n",
            "Epoch 3/25\n",
            "\u001b[1m57/57\u001b[0m \u001b[32m━━━━━━━━━━━━━━━━━━━━\u001b[0m\u001b[37m\u001b[0m \u001b[1m68s\u001b[0m 1s/step - accuracy: 0.3421 - loss: 6.8724 - val_accuracy: 0.5882 - val_loss: 6.9519\n",
            "Epoch 4/25\n",
            "\u001b[1m57/57\u001b[0m \u001b[32m━━━━━━━━━━━━━━━━━━━━\u001b[0m\u001b[37m\u001b[0m \u001b[1m87s\u001b[0m 1s/step - accuracy: 0.5922 - loss: 6.6162 - val_accuracy: 0.5930 - val_loss: 6.8209\n",
            "Epoch 5/25\n",
            "\u001b[1m57/57\u001b[0m \u001b[32m━━━━━━━━━━━━━━━━━━━━\u001b[0m\u001b[37m\u001b[0m \u001b[1m77s\u001b[0m 1s/step - accuracy: 0.5961 - loss: 6.4056 - val_accuracy: 0.5993 - val_loss: 6.6968\n",
            "Epoch 6/25\n",
            "\u001b[1m57/57\u001b[0m \u001b[32m━━━━━━━━━━━━━━━━━━━━\u001b[0m\u001b[37m\u001b[0m \u001b[1m87s\u001b[0m 1s/step - accuracy: 0.5991 - loss: 6.2053 - val_accuracy: 0.6063 - val_loss: 6.5960\n",
            "Epoch 7/25\n",
            "\u001b[1m57/57\u001b[0m \u001b[32m━━━━━━━━━━━━━━━━━━━━\u001b[0m\u001b[37m\u001b[0m \u001b[1m77s\u001b[0m 1s/step - accuracy: 0.6033 - loss: 5.9992 - val_accuracy: 0.6092 - val_loss: 6.5296\n",
            "Epoch 8/25\n",
            "\u001b[1m57/57\u001b[0m \u001b[32m━━━━━━━━━━━━━━━━━━━━\u001b[0m\u001b[37m\u001b[0m \u001b[1m82s\u001b[0m 1s/step - accuracy: 0.6116 - loss: 5.8269 - val_accuracy: 0.5943 - val_loss: 6.4836\n",
            "Epoch 9/25\n",
            "\u001b[1m57/57\u001b[0m \u001b[32m━━━━━━━━━━━━━━━━━━━━\u001b[0m\u001b[37m\u001b[0m \u001b[1m82s\u001b[0m 1s/step - accuracy: 0.6147 - loss: 5.6532 - val_accuracy: 0.6139 - val_loss: 6.4425\n",
            "Epoch 10/25\n",
            "\u001b[1m57/57\u001b[0m \u001b[32m━━━━━━━━━━━━━━━━━━━━\u001b[0m\u001b[37m\u001b[0m \u001b[1m68s\u001b[0m 1s/step - accuracy: 0.6227 - loss: 5.4924 - val_accuracy: 0.6167 - val_loss: 6.4261\n",
            "Epoch 11/25\n",
            "\u001b[1m57/57\u001b[0m \u001b[32m━━━━━━━━━━━━━━━━━━━━\u001b[0m\u001b[37m\u001b[0m \u001b[1m83s\u001b[0m 1s/step - accuracy: 0.6268 - loss: 5.3340 - val_accuracy: 0.6107 - val_loss: 6.4219\n",
            "Epoch 12/25\n",
            "\u001b[1m57/57\u001b[0m \u001b[32m━━━━━━━━━━━━━━━━━━━━\u001b[0m\u001b[37m\u001b[0m \u001b[1m82s\u001b[0m 1s/step - accuracy: 0.6275 - loss: 5.1837 - val_accuracy: 0.6200 - val_loss: 6.4152\n",
            "Epoch 13/25\n",
            "\u001b[1m57/57\u001b[0m \u001b[32m━━━━━━━━━━━━━━━━━━━━\u001b[0m\u001b[37m\u001b[0m \u001b[1m82s\u001b[0m 1s/step - accuracy: 0.6347 - loss: 5.0171 - val_accuracy: 0.6219 - val_loss: 6.4185\n",
            "Epoch 14/25\n",
            "\u001b[1m57/57\u001b[0m \u001b[32m━━━━━━━━━━━━━━━━━━━━\u001b[0m\u001b[37m\u001b[0m \u001b[1m82s\u001b[0m 1s/step - accuracy: 0.6389 - loss: 4.8691 - val_accuracy: 0.6190 - val_loss: 6.4232\n",
            "Epoch 15/25\n",
            "\u001b[1m57/57\u001b[0m \u001b[32m━━━━━━━━━━━━━━━━━━━━\u001b[0m\u001b[37m\u001b[0m \u001b[1m82s\u001b[0m 1s/step - accuracy: 0.6441 - loss: 4.7201 - val_accuracy: 0.6246 - val_loss: 6.4282\n",
            "Epoch 16/25\n",
            "\u001b[1m57/57\u001b[0m \u001b[32m━━━━━━━━━━━━━━━━━━━━\u001b[0m\u001b[37m\u001b[0m \u001b[1m82s\u001b[0m 1s/step - accuracy: 0.6487 - loss: 4.5722 - val_accuracy: 0.6237 - val_loss: 6.4518\n",
            "Epoch 17/25\n",
            "\u001b[1m57/57\u001b[0m \u001b[32m━━━━━━━━━━━━━━━━━━━━\u001b[0m\u001b[37m\u001b[0m \u001b[1m82s\u001b[0m 1s/step - accuracy: 0.6547 - loss: 4.4274 - val_accuracy: 0.6246 - val_loss: 6.4460\n",
            "Epoch 18/25\n",
            "\u001b[1m57/57\u001b[0m \u001b[32m━━━━━━━━━━━━━━━━━━━━\u001b[0m\u001b[37m\u001b[0m \u001b[1m82s\u001b[0m 1s/step - accuracy: 0.6560 - loss: 4.3343 - val_accuracy: 0.6251 - val_loss: 6.4467\n",
            "Epoch 19/25\n",
            "\u001b[1m57/57\u001b[0m \u001b[32m━━━━━━━━━━━━━━━━━━━━\u001b[0m\u001b[37m\u001b[0m \u001b[1m82s\u001b[0m 1s/step - accuracy: 0.6613 - loss: 4.2369 - val_accuracy: 0.6234 - val_loss: 6.4715\n",
            "Epoch 20/25\n",
            "\u001b[1m57/57\u001b[0m \u001b[32m━━━━━━━━━━━━━━━━━━━━\u001b[0m\u001b[37m\u001b[0m \u001b[1m82s\u001b[0m 1s/step - accuracy: 0.6712 - loss: 4.0722 - val_accuracy: 0.6225 - val_loss: 6.5007\n",
            "Epoch 21/25\n",
            "\u001b[1m57/57\u001b[0m \u001b[32m━━━━━━━━━━━━━━━━━━━━\u001b[0m\u001b[37m\u001b[0m \u001b[1m82s\u001b[0m 1s/step - accuracy: 0.6769 - loss: 3.9547 - val_accuracy: 0.6262 - val_loss: 6.5346\n",
            "Epoch 22/25\n",
            "\u001b[1m57/57\u001b[0m \u001b[32m━━━━━━━━━━━━━━━━━━━━\u001b[0m\u001b[37m\u001b[0m \u001b[1m82s\u001b[0m 1s/step - accuracy: 0.6849 - loss: 3.8171 - val_accuracy: 0.6261 - val_loss: 6.5512\n",
            "Epoch 23/25\n",
            "\u001b[1m57/57\u001b[0m \u001b[32m━━━━━━━━━━━━━━━━━━━━\u001b[0m\u001b[37m\u001b[0m \u001b[1m82s\u001b[0m 1s/step - accuracy: 0.6900 - loss: 3.7059 - val_accuracy: 0.6281 - val_loss: 6.5907\n",
            "Epoch 24/25\n",
            "\u001b[1m57/57\u001b[0m \u001b[32m━━━━━━━━━━━━━━━━━━━━\u001b[0m\u001b[37m\u001b[0m \u001b[1m82s\u001b[0m 1s/step - accuracy: 0.6969 - loss: 3.6011 - val_accuracy: 0.6258 - val_loss: 6.6072\n",
            "Epoch 25/25\n",
            "\u001b[1m57/57\u001b[0m \u001b[32m━━━━━━━━━━━━━━━━━━━━\u001b[0m\u001b[37m\u001b[0m \u001b[1m82s\u001b[0m 1s/step - accuracy: 0.7026 - loss: 3.4912 - val_accuracy: 0.6270 - val_loss: 6.6299\n"
          ]
        },
        {
          "output_type": "execute_result",
          "data": {
            "text/plain": [
              "<keras.src.callbacks.history.History at 0x7b413c4525f0>"
            ]
          },
          "metadata": {},
          "execution_count": 37
        }
      ],
      "source": [
        "#decoder outputs for training for teacher forcing\n",
        "y_train = np.zeros((y.shape[0], y.shape[1]), dtype=int)\n",
        "\n",
        "for i in range(len(data)):                        #populating y_train with tokens from the target summary statring from 2nd token/word\n",
        "    for t in range(1, min(len(data['text_seq'][i]), max_summary_len)):\n",
        "        y_train[i, t - 1] = data['text_seq'][i][t]\n",
        "\n",
        "#the model uses SparseCategoricalCrossentropy as it is multiclass classification\n",
        "from tensorflow.keras.optimizers import Adam\n",
        "\n",
        "# Compile model with a lower learning rate\n",
        "model.compile(optimizer=Adam(learning_rate=0.001), loss=SparseCategoricalCrossentropy(from_logits=True), metrics=['accuracy'])\n",
        "\n",
        "\n",
        "from keras.callbacks import EarlyStopping\n",
        "early_stopping = EarlyStopping(monitor='val_loss', patience=3, restore_best_weights=True)\n",
        "\n",
        "\n",
        "#Training the model\n",
        "model.fit([X, y], y_train, batch_size=64, epochs=25, validation_split=0.2)\n"
      ]
    }
  ],
  "metadata": {
    "kernelspec": {
      "display_name": "Python 3",
      "name": "python3"
    },
    "language_info": {
      "codemirror_mode": {
        "name": "ipython",
        "version": 3
      },
      "file_extension": ".py",
      "mimetype": "text/x-python",
      "name": "python",
      "nbconvert_exporter": "python",
      "pygments_lexer": "ipython3",
      "version": "3.12.4"
    },
    "colab": {
      "provenance": [],
      "gpuType": "T4"
    },
    "accelerator": "GPU"
  },
  "nbformat": 4,
  "nbformat_minor": 5
}